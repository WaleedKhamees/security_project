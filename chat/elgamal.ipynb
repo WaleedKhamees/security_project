{
 "cells": [
  {
   "cell_type": "code",
   "execution_count": 127,
   "metadata": {},
   "outputs": [],
   "source": [
    "from Crypto.Util import number\n",
    "from Crypto.Hash import SHA1\n",
    "from sympy import isprime, primitive_root\n",
    "import random\n",
    "import numpy as np"
   ]
  },
  {
   "cell_type": "code",
   "execution_count": 142,
   "metadata": {},
   "outputs": [],
   "source": [
    "\n"
   ]
  },
  {
   "cell_type": "code",
   "execution_count": 104,
   "metadata": {},
   "outputs": [],
   "source": [
    "def read_Public_Parameters(File_Path):\n",
    "    with open(File_Path, 'r') as file:\n",
    "        q = int(file.readline())\n",
    "        a = int(file.readline())\n",
    "    return q, a\n",
    "    \n",
    "def diffie_hellman_genPriKey(q):\n",
    "    return random.randint(1, q-1)\n",
    "    \n",
    "def diffie_hellman_genPubKey(q, a, Xa):\n",
    "    Ya = pow(a, Xa, q)\n",
    "    return Ya\n",
    "\n",
    "def Calculate_Secret_Key(Yb, Xa, q):\n",
    "    return pow(Yb, Xa, q)"
   ]
  },
  {
   "cell_type": "code",
   "execution_count": 105,
   "metadata": {},
   "outputs": [],
   "source": [
    "def elgamal_private_key(prime: int) -> int:\n",
    "    return random.randint(1, prime - 1)\n",
    "\n",
    "def elgamal_public_key(a: int, Xa: int, q: int) -> int:\n",
    "    return pow(a, Xa, q)\n",
    "\n",
    "def get_primitive_root(prime: int) -> int:\n",
    "    if not isprime(prime):\n",
    "        raise ValueError(\"The number is not prime\")\n",
    "    return primitive_root(prime)"
   ]
  },
  {
   "cell_type": "markdown",
   "metadata": {},
   "source": [
    "Public Parameters"
   ]
  },
  {
   "cell_type": "code",
   "execution_count": 103,
   "metadata": {},
   "outputs": [],
   "source": [
    "prime_number_elgamal = number.getPrime(256)\n",
    "alpha_elgamal = get_primitive_root(prime_number_elgamal)\n",
    "\n",
    "prime_number_diffie = number.getPrime(256)\n",
    "alpha_diffie = get_primitive_root(prime_number_diffie)\n",
    "\n",
    "\n",
    "with open(\"public_parameter_elgamal.txt\", \"w\") as f: \n",
    "    f.write(f\"{prime_number_elgamal}\\n{alpha_elgamal}\")\n",
    "\n",
    "with open(\"public_parameter_diffie.txt\", \"w\") as f: \n",
    "    f.write(f\"{prime_number_diffie}\\n{alpha_diffie}\")\n"
   ]
  },
  {
   "cell_type": "code",
   "execution_count": 151,
   "metadata": {},
   "outputs": [],
   "source": [
    "def sign(message: int, Xa: int, q: int, a: int) -> tuple:\n",
    "    k = elgamal_private_key(q)\n",
    "    s1 = pow(a, k, q)\n",
    "    m = SHA1.new(large_number_to_bytes(message)).digest()\n",
    "    m = int.from_bytes(m)\n",
    "    s2 = (m - Xa * s1) * pow(k, -1, q - 1) % (q - 1)\n",
    "    return s1, s2"
   ]
  },
  {
   "cell_type": "code",
   "execution_count": 124,
   "metadata": {},
   "outputs": [
    {
     "name": "stdout",
     "output_type": "stream",
     "text": [
      "552217601566544758515102297425320266994028244549\n"
     ]
    }
   ],
   "source": []
  },
  {
   "cell_type": "code",
   "execution_count": null,
   "metadata": {},
   "outputs": [],
   "source": []
  },
  {
   "cell_type": "code",
   "execution_count": 152,
   "metadata": {},
   "outputs": [
    {
     "ename": "ValueError",
     "evalue": "base is not invertible for the given modulus",
     "output_type": "error",
     "traceback": [
      "\u001b[0;31m---------------------------------------------------------------------------\u001b[0m",
      "\u001b[0;31mValueError\u001b[0m                                Traceback (most recent call last)",
      "Cell \u001b[0;32mIn[152], line 10\u001b[0m\n\u001b[1;32m      7\u001b[0m elgamal_Xa \u001b[38;5;241m=\u001b[39m elgamal_private_key(elgamal_q)\n\u001b[1;32m      8\u001b[0m elgamal_Ya \u001b[38;5;241m=\u001b[39m elgamal_public_key(elgamal_a, elgamal_Xa, elgamal_q)\n\u001b[0;32m---> 10\u001b[0m r, s  \u001b[38;5;241m=\u001b[39m \u001b[43msign\u001b[49m\u001b[43m(\u001b[49m\u001b[43mdiffie_hellman_Ya\u001b[49m\u001b[43m,\u001b[49m\u001b[43m \u001b[49m\u001b[43melgamal_Xa\u001b[49m\u001b[43m,\u001b[49m\u001b[43m \u001b[49m\u001b[43melgamal_q\u001b[49m\u001b[43m,\u001b[49m\u001b[43m \u001b[49m\u001b[43melgamal_a\u001b[49m\u001b[43m)\u001b[49m\n",
      "Cell \u001b[0;32mIn[151], line 6\u001b[0m, in \u001b[0;36msign\u001b[0;34m(message, Xa, q, a)\u001b[0m\n\u001b[1;32m      4\u001b[0m m \u001b[38;5;241m=\u001b[39m SHA1\u001b[38;5;241m.\u001b[39mnew(large_number_to_bytes(message))\u001b[38;5;241m.\u001b[39mdigest()\n\u001b[1;32m      5\u001b[0m m \u001b[38;5;241m=\u001b[39m \u001b[38;5;28mint\u001b[39m\u001b[38;5;241m.\u001b[39mfrom_bytes(m, byteorder\u001b[38;5;241m=\u001b[39m\u001b[38;5;124m'\u001b[39m\u001b[38;5;124mbig\u001b[39m\u001b[38;5;124m'\u001b[39m)\n\u001b[0;32m----> 6\u001b[0m s2 \u001b[38;5;241m=\u001b[39m (m \u001b[38;5;241m-\u001b[39m Xa \u001b[38;5;241m*\u001b[39m s1) \u001b[38;5;241m*\u001b[39m \u001b[38;5;28;43mpow\u001b[39;49m\u001b[43m(\u001b[49m\u001b[43mk\u001b[49m\u001b[43m,\u001b[49m\u001b[43m \u001b[49m\u001b[38;5;241;43m-\u001b[39;49m\u001b[38;5;241;43m1\u001b[39;49m\u001b[43m,\u001b[49m\u001b[43m \u001b[49m\u001b[43mq\u001b[49m\u001b[43m \u001b[49m\u001b[38;5;241;43m-\u001b[39;49m\u001b[43m \u001b[49m\u001b[38;5;241;43m1\u001b[39;49m\u001b[43m)\u001b[49m \u001b[38;5;241m%\u001b[39m (q \u001b[38;5;241m-\u001b[39m \u001b[38;5;241m1\u001b[39m)\n\u001b[1;32m      7\u001b[0m \u001b[38;5;28;01mreturn\u001b[39;00m s1, s2\n",
      "\u001b[0;31mValueError\u001b[0m: base is not invertible for the given modulus"
     ]
    }
   ],
   "source": [
    "diffie_hellman_q, diffie_hellman_a = read_Public_Parameters(\"public_parameter_diffie.txt\")\n",
    "elgamal_q, elgamal_a = read_Public_Parameters(\"public_parameter_elgamal.txt\")\n",
    "\n",
    "diffie_hellman_Xa = diffie_hellman_genPriKey(diffie_hellman_q)\n",
    "diffie_hellman_Ya = diffie_hellman_genPubKey(diffie_hellman_q, diffie_hellman_a, diffie_hellman_Xa)\n",
    "\n",
    "elgamal_Xa = elgamal_private_key(elgamal_q)\n",
    "elgamal_Ya = elgamal_public_key(elgamal_a, elgamal_Xa, elgamal_q)\n",
    "\n",
    "r, s  = sign(diffie_hellman_Ya, elgamal_Xa, elgamal_q, elgamal_a)\n",
    "\n",
    "# print(verify(diffie_hellman_Ya, r, s, elgamal_q, elgamal_a, elgamal_Ya))\n",
    "\n"
   ]
  }
 ],
 "metadata": {
  "kernelspec": {
   "display_name": "Python 3",
   "language": "python",
   "name": "python3"
  },
  "language_info": {
   "codemirror_mode": {
    "name": "ipython",
    "version": 3
   },
   "file_extension": ".py",
   "mimetype": "text/x-python",
   "name": "python",
   "nbconvert_exporter": "python",
   "pygments_lexer": "ipython3",
   "version": "3.11.8"
  }
 },
 "nbformat": 4,
 "nbformat_minor": 2
}
