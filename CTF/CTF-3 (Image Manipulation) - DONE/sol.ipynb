{
 "cells": [
  {
   "cell_type": "code",
   "execution_count": 1,
   "metadata": {},
   "outputs": [],
   "source": [
    "import cv2\n",
    "import matplotlib.pyplot as plt\n",
    "import numpy as np"
   ]
  },
  {
   "cell_type": "code",
   "execution_count": 2,
   "metadata": {},
   "outputs": [],
   "source": [
    "\n",
    "\n",
    "image1 = cv2.imread('first.png')\n",
    "image2 = cv2.imread('second.png')\n",
    "\n",
    "xor = cv2.bitwise_xor(image1, image2)\n",
    "\n",
    "plt.imsave('xor.png', xor)\n",
    "\n",
    "gamma = 100\n",
    "\n",
    "# Apply gamma correction\n",
    "corrected_image = np.clip((xor / 255.0) ** gamma * 255.0, 0, 255).astype(np.uint8)\n",
    "\n",
    "corrected_image[corrected_image < 255] = 0\n",
    "\n",
    "\n",
    "plt.imsave('output.png', corrected_image)"
   ]
  }
 ],
 "metadata": {
  "kernelspec": {
   "display_name": "Python 3",
   "language": "python",
   "name": "python3"
  },
  "language_info": {
   "codemirror_mode": {
    "name": "ipython",
    "version": 3
   },
   "file_extension": ".py",
   "mimetype": "text/x-python",
   "name": "python",
   "nbconvert_exporter": "python",
   "pygments_lexer": "ipython3",
   "version": "3.11.8"
  }
 },
 "nbformat": 4,
 "nbformat_minor": 2
}
