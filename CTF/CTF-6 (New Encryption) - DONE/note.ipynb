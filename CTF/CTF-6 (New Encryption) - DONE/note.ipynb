{
 "cells": [
  {
   "cell_type": "code",
   "execution_count": 1,
   "metadata": {},
   "outputs": [],
   "source": [
    "import string\n",
    "\n",
    "START = ord(\"a\")\n",
    "CHARSET = string.ascii_lowercase[:16]\n",
    "\n",
    "def encode_b16(plain):\n",
    "\tencoded = \"\"\n",
    "\tfor c in plain:\n",
    "\t\tbinary = \"{0:08b}\".format(ord(c))\n",
    "\t\tencoded += (CHARSET[int(binary[:4], 2)] + CHARSET[int(binary[4:], 2)])\n",
    "\treturn encoded\n",
    "\n",
    "def caesar_shift(c, k):\n",
    "\treturn CHARSET[(ord(c) + ord(k) - 2 * START) % len(CHARSET)]\n",
    "\n",
    "\n",
    "\n",
    "flag = \"secretkey\"\n",
    "# hint: key is a single letter\n",
    "key = \"secretkey\"\n",
    "\n",
    "b16 = encode_b16(flag)\n",
    "enc = \"\"\n",
    "for i, c in enumerate(b16):\n",
    "\tenc += caesar_shift(c, key[i % len(key)])\n",
    "\n",
    "# print(b16)\n",
    "\n",
    "# x = (ord(c) + ord(k) - 2 * START) % len(CHARSET)\n",
    "# (x - ord(k)) mod len = (ord(c) - 2 * start) % len\n",
    "# (x - ord(k) + 2 * start) mod len = ord(c) \n",
    "\n",
    "\n",
    "\n",
    "\n",
    "\n",
    "\n",
    "\n",
    "# inverse = \"\"\n",
    "# for i, c in enumerate(enc): \n",
    "# \tinverse += **(c, key[i % len(key)])\n",
    "\n",
    "\n",
    "\n",
    "\n",
    "\n"
   ]
  },
  {
   "cell_type": "code",
   "execution_count": 3,
   "metadata": {},
   "outputs": [],
   "source": [
    "def decode_b16(text): \n",
    "\tdecode=\"\"\n",
    "\tfor i in range(0, len(text), 2): \n",
    "\t\ttext_bin = CHARSET.index(text[i]) * 16 + CHARSET.index(text[i+1])\n",
    "\t\tdecode += chr(text_bin)\n",
    "\treturn decode\n",
    "def inverse_caesar_shift(c, k):\n",
    "\t# c is the output of caesar after getting index of charset so we must get inverse of charset[] operation with .index\n",
    "    # - ord(k) standard modular operations \n",
    "\t# + Start is because there is one character that needs an offset (k) unlike above were there were two (c_orig, k) \n",
    "\treturn CHARSET[((CHARSET.index(c) - ord(k) +  START) % len(CHARSET))]\n",
    "\n",
    "def decipher(cipher, key): \n",
    "\tinverse = \"\"\n",
    "\tfor i, c in enumerate(cipher):\n",
    "\t\tinverse += inverse_caesar_shift(c, key[i % len(key)])\n",
    "\treturn decode_b16(inverse)\n",
    "\n"
   ]
  },
  {
   "cell_type": "code",
   "execution_count": 4,
   "metadata": {},
   "outputs": [
    {
     "name": "stdout",
     "output_type": "stream",
     "text": [
      "a ¬©d©¢©¡­©·d¥¶©d¡¥¯­¢«d¥d¡£º©bd©d¢©©¨d¸£d¥§¸dª¥·¸b\n",
      "b S¦S¥SSS©QSSS§S§S¦§Q\n",
      "c vBBBBB@ByBBBB@\n",
      "d eyv1vv~zv1rv1~r|zx1r1~pv?1hv1vvu1p1rt1wr?\n",
      "e The enemies are making a move. We need to act fast.\n",
      "f CWT\u001fT]T\\XTb\u001fPaT\u001f\\PZX]V\u001fP\u001f\\^eT\u001d\u001fFT\u001f]TTS\u001fc^\u001fPRc\u001fUPbc\u001d\n",
      "g 2FC\u000eCLCKGCQ\u000eOPC\u000eKOIGLE\u000eO\u000eKMTC\f\u000e5C\u000eLCCB\u000eRM\u000eOAR\u000eDOQR\f\n",
      "h !52ý2;2:62@ý>O2ý:>86;4ý>ý:<C2ûý$2ý;221ýA<ý>0Aý3>@Aû\n",
      "i \u0010$!ì!*!)%!?ì->!ì)-'%*#ì-ì)+2!êì\u0013!ì*!! ì0+ì-/0ì\"-?0ê\n",
      "j \u000f\u0013\u0010Û\u0010\u0019\u0010\u0018\u0014\u0010.Û\u001c-\u0010Û\u0018\u001c\u0016\u0014\u0019\u0012Û\u001cÛ\u0018\u001a!\u0010ÙÛ\u0002\u0010Û\u0019\u0010\u0010\u001fÛ/\u001aÛ\u001c\u001e/Û\u0011\u001c./Ù\n",
      "\u001eÊ\u0000\u000b\u001d\u001eÈ\u0007\u0003\u000f\u001dÊ\u000b\u001c\u000fÊ\u0007\u000b\u0005\u0001Ê\u000bÊ\u0007\t\u0010\u000fÈÊñ\u000f\u000f\u000f\u000eÊ\u001e\tÊ\u000b\n",
      "·ÿú\fþ¹þ÷þöòþ\f¹ú\u000bþ¹öúôò÷ð¹ú¹öø\u000fþ·¹àþ¹÷þþý¹\n",
      "m Üàí¨íæíåáíû¨éúí¨åéãáæï¨é¨åçþí¦¨ßí¨æííì¨üç¨éëü¨îéûü¦\n",
      "n ËßÜÜÕÜÔÐÜêØéÜÔØÒÐÕÞØÔÖíÜÎÜÕÜÜÛëÖØÚëÝØêë\n",
      "o ºÎËËÄËÃÏËÙÇØËÃÇÁÏÄÍÇÃÅÜË½ËÄËËÊÚÅÇÉÚÌÇÙÚ\n",
      "p ©½ºuº³º²¾ºÈu¶Çºu²¶°¾³¼u¶u²´Ëºsu¬ºu³ºº¹uÉ´u¶¸Éu»¶ÈÉs\n"
     ]
    }
   ],
   "source": [
    "encrypted=\"\"\n",
    "\n",
    "with open(\"cipher.txt\", \"r\") as f: \n",
    "    encrypted = f.read()\n",
    "\n",
    "for key in CHARSET: \n",
    "    print(key, decipher(encrypted, key))"
   ]
  }
 ],
 "metadata": {
  "kernelspec": {
   "display_name": "Python 3",
   "language": "python",
   "name": "python3"
  },
  "language_info": {
   "codemirror_mode": {
    "name": "ipython",
    "version": 3
   },
   "file_extension": ".py",
   "mimetype": "text/x-python",
   "name": "python",
   "nbconvert_exporter": "python",
   "pygments_lexer": "ipython3",
   "version": "3.12.3"
  }
 },
 "nbformat": 4,
 "nbformat_minor": 2
}
