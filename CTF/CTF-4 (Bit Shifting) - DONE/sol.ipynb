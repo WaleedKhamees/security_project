{
 "cells": [
  {
   "cell_type": "code",
   "execution_count": 3,
   "metadata": {},
   "outputs": [],
   "source": [
    "import numpy as np\n",
    "from bitstring import BitArray"
   ]
  },
  {
   "cell_type": "code",
   "execution_count": 5,
   "metadata": {},
   "outputs": [
    {
     "name": "stdout",
     "output_type": "stream",
     "text": [
      "Hello and welcome to file11 forensic challenge. This is just filler text to make it longer.\n",
      "\n",
      "fastctf{a_bit_tricky|\n"
     ]
    }
   ],
   "source": [
    "s = np.fromfile('bits.txt', dtype=np.uint8)\n",
    "bs = BitArray(bytes=s)\n",
    "\n",
    "x = bs\n",
    "x <<= 1\n",
    "x = x.bytes\n",
    "x = np.frombuffer(x, dtype=np.uint8)\n",
    "for j in x:\n",
    "    print(chr(j), end='')\n",
    "print()"
   ]
  }
 ],
 "metadata": {
  "kernelspec": {
   "display_name": "Python 3",
   "language": "python",
   "name": "python3"
  },
  "language_info": {
   "codemirror_mode": {
    "name": "ipython",
    "version": 3
   },
   "file_extension": ".py",
   "mimetype": "text/x-python",
   "name": "python",
   "nbconvert_exporter": "python",
   "pygments_lexer": "ipython3",
   "version": "3.12.3"
  }
 },
 "nbformat": 4,
 "nbformat_minor": 2
}
