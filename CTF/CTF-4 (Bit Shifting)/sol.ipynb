{
 "cells": [
  {
   "cell_type": "code",
   "execution_count": 3,
   "metadata": {},
   "outputs": [],
   "source": [
    "import numpy as np\n",
    "from bitstring import BitArray"
   ]
  },
  {
   "cell_type": "code",
   "execution_count": 14,
   "metadata": {},
   "outputs": [
    {
     "name": "stdout",
     "output_type": "stream",
     "text": [
      "$2¶670·2\u0010;²¶1·¶²:734¶237¹2·9´±1´0¶62·3²\u0010*44¹4¹5:¹º\u001034¶62¹\u0010:2¼:\u0010:76°µ²4º\u001067·3²¹\u0017\u0006\u000630¹º1º3=°¯±4º/º94±µ¼¾\n",
      "Hello and welcome to file11 forensic challenge. This is just filler text to make it longer.\n",
      "\n",
      "fastctf{a_bit_tricky|\n",
      "!±±¼¹Ý±½µÑ¼¥±ÄÄ½É¹Í¥¡±±¹¸Q¡¥Ì¥Ì©ÕÍÐ¥±±ÈÑáÐÑ¼µ­¥Ð±½¹È¸4(4)ÍÑÑí}¥Ñ}ÑÉ¥­åð\n",
      "\f­ä\f-Ì\u000eì­mí¬¤\u000eä\fÍ-¦&$\fÍîL­Îm,d\fm\f-­Ìì¥Ä\n",
      "íÌì®EÁ¡A¡LÌ.nnÏl+ìM.îM,mo/\n",
      "ÊØØÞ@ÂÜÈ@îÊØÆÞÚÊ@èÞ@ÌÒØÊbb@ÌÞäÊÜæÒÆ@ÆÐÂØØÊÜÎÊ\\@¨ÐÒæ@Òæ@Ôêæè@ÌÒØØÊä@èÊðè@èÞ@ÚÂÖÊ@Òè@ØÞÜÎÊä\\\u001a\u0014\u001a\u0014ÌÂæèÆèÌöÂ¾ÄÒè¾èäÒÆÖòø\u0000\n",
      "[\u001b\u001bÈ\u0018[\u001dÙ[\u0018ÛÛYH\u001d\u001bÈ\u0019[\u0019LLH\u0019Ü[ÚXÈ\u0018Ú\u0018[\u001b\u0019[ÙK\u0015\u001a\u001a\\È\u001a\\È\u001a\\\u0019[\u001b\u0019\\\u001d\u0019^\u001d\u001bÈ\u001bXZÙH\u001a\u001b\u001bÛÙ\\BB\\Ý\u0018Ý\u0019ØWØ]\u0017Ý\u001cXÚÞ_\u0000\u0000\n",
      "ÆÆò\u0006\u0016æB\u0007vVÆ6öÖR\u0007Fò\u0006fÆS\u0013\u0012\u0006f÷&Vç62\u00066\u0016ÆÆVævRâ\u0005F2\u00062\u0006§W7B\u0006fÆÆW\"\u0007FWB\u0007Fò\u0006Ö\u0016¶R\u0006B\u0006ÆöævW\"àÐ Ð¦f\u00177F7Fg¶\u0015ö&E÷G&6·À\u0000\u0000\n",
      "cy\u0003\u000bs!\u0003»+c\u001b{k)\u0003£y\u00033Kc)\u00033{+sK\u0019\u0003\u001bC\u000bcc+s;)q\u0002£CK\u0003K\u0003S«¡\u00033Kcc+\u0003£+Ã¡\u0003£y\u0003k\u000b[)\u0003K¡\u0003c{s;+phPhS3\u000b£\u001b£3Û\n",
      "û\u0013K¢û£K\u001b[Ëà\u0000\u0000\u0000\n"
     ]
    }
   ],
   "source": [
    "s = np.fromfile('bits.txt', dtype=np.uint8)\n",
    "bs = BitArray(bytes=s)\n",
    "\n",
    "for i in range(8):\n",
    "    x = bs\n",
    "    x <<= i\n",
    "    x = x.bytes\n",
    "    x = np.frombuffer(x, dtype=np.uint8)\n",
    "    for j in x:\n",
    "        print(chr(j), end='')\n",
    "    print()"
   ]
  }
 ],
 "metadata": {
  "kernelspec": {
   "display_name": "Python 3",
   "language": "python",
   "name": "python3"
  },
  "language_info": {
   "codemirror_mode": {
    "name": "ipython",
    "version": 3
   },
   "file_extension": ".py",
   "mimetype": "text/x-python",
   "name": "python",
   "nbconvert_exporter": "python",
   "pygments_lexer": "ipython3",
   "version": "3.11.8"
  }
 },
 "nbformat": 4,
 "nbformat_minor": 2
}
